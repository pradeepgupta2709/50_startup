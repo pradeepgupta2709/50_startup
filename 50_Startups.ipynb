{
 "cells": [
  {
   "cell_type": "markdown",
   "id": "d5d69283-b5f1-43b7-9261-9586c3b398f5",
   "metadata": {
    "id": "d5d69283-b5f1-43b7-9261-9586c3b398f5"
   },
   "source": [
    "# 50_Startups"
   ]
  },
  {
   "cell_type": "markdown",
   "id": "2cb4b424-38c4-4097-a796-66890736376e",
   "metadata": {
    "id": "2cb4b424-38c4-4097-a796-66890736376e"
   },
   "source": [
    "**Linear Regression:**\n",
    "XYZ is a venture capital firms in the US. They are planning to invest in some of the potential startups across the US. They have already invested in around fifty startups in Florida, Newyork and California. You are a data analyst at XYZ and you have been asked to build a model that predicts the profitability of the firm’s future investments. Below is the snapshot of the data you have."
   ]
  },
  {
   "cell_type": "code",
   "execution_count": null,
   "id": "a7f167f0-d163-40a8-847d-d62c1aafff1f",
   "metadata": {
    "id": "a7f167f0-d163-40a8-847d-d62c1aafff1f"
   },
   "outputs": [],
   "source": [
    "# Suppressing Warnings\n",
    "import warnings\n",
    "warnings.filterwarnings('ignore')"
   ]
  },
  {
   "cell_type": "code",
   "execution_count": null,
   "id": "5630dbdc-3198-4966-ad74-3c684dcea10c",
   "metadata": {
    "id": "5630dbdc-3198-4966-ad74-3c684dcea10c"
   },
   "outputs": [],
   "source": [
    "# Importing Pandas and NumPy\n",
    "import pandas as pd, numpy as np"
   ]
  },
  {
   "cell_type": "code",
   "execution_count": null,
   "id": "3b06aecf-1713-456a-9863-b537be29e609",
   "metadata": {
    "id": "3b06aecf-1713-456a-9863-b537be29e609"
   },
   "outputs": [],
   "source": [
    "md = pd.read_csv(\"50_Startups.csv\")"
   ]
  },
  {
   "cell_type": "code",
   "execution_count": null,
   "id": "5c7d8d3a-7748-4757-872f-fb49c86c0d60",
   "metadata": {
    "id": "5c7d8d3a-7748-4757-872f-fb49c86c0d60",
    "outputId": "b8f10946-8605-4550-f6f2-3ccf65a3ff09"
   },
   "outputs": [
    {
     "data": {
      "text/html": [
       "<div>\n",
       "<style scoped>\n",
       "    .dataframe tbody tr th:only-of-type {\n",
       "        vertical-align: middle;\n",
       "    }\n",
       "\n",
       "    .dataframe tbody tr th {\n",
       "        vertical-align: top;\n",
       "    }\n",
       "\n",
       "    .dataframe thead th {\n",
       "        text-align: right;\n",
       "    }\n",
       "</style>\n",
       "<table border=\"1\" class=\"dataframe\">\n",
       "  <thead>\n",
       "    <tr style=\"text-align: right;\">\n",
       "      <th></th>\n",
       "      <th>R&amp;D Spend</th>\n",
       "      <th>Administration</th>\n",
       "      <th>Marketing Spend</th>\n",
       "      <th>State</th>\n",
       "      <th>Profit</th>\n",
       "    </tr>\n",
       "  </thead>\n",
       "  <tbody>\n",
       "    <tr>\n",
       "      <th>0</th>\n",
       "      <td>165349.20</td>\n",
       "      <td>136897.80</td>\n",
       "      <td>471784.10</td>\n",
       "      <td>New York</td>\n",
       "      <td>192261.83</td>\n",
       "    </tr>\n",
       "    <tr>\n",
       "      <th>1</th>\n",
       "      <td>162597.70</td>\n",
       "      <td>151377.59</td>\n",
       "      <td>443898.53</td>\n",
       "      <td>California</td>\n",
       "      <td>191792.06</td>\n",
       "    </tr>\n",
       "    <tr>\n",
       "      <th>2</th>\n",
       "      <td>153441.51</td>\n",
       "      <td>101145.55</td>\n",
       "      <td>407934.54</td>\n",
       "      <td>Florida</td>\n",
       "      <td>191050.39</td>\n",
       "    </tr>\n",
       "    <tr>\n",
       "      <th>3</th>\n",
       "      <td>144372.41</td>\n",
       "      <td>118671.85</td>\n",
       "      <td>383199.62</td>\n",
       "      <td>New York</td>\n",
       "      <td>182901.99</td>\n",
       "    </tr>\n",
       "    <tr>\n",
       "      <th>4</th>\n",
       "      <td>142107.34</td>\n",
       "      <td>91391.77</td>\n",
       "      <td>366168.42</td>\n",
       "      <td>Florida</td>\n",
       "      <td>166187.94</td>\n",
       "    </tr>\n",
       "  </tbody>\n",
       "</table>\n",
       "</div>"
      ],
      "text/plain": [
       "   R&D Spend  Administration  Marketing Spend       State     Profit\n",
       "0  165349.20       136897.80        471784.10    New York  192261.83\n",
       "1  162597.70       151377.59        443898.53  California  191792.06\n",
       "2  153441.51       101145.55        407934.54     Florida  191050.39\n",
       "3  144372.41       118671.85        383199.62    New York  182901.99\n",
       "4  142107.34        91391.77        366168.42     Florida  166187.94"
      ]
     },
     "execution_count": 4,
     "metadata": {},
     "output_type": "execute_result"
    }
   ],
   "source": [
    "md.head()"
   ]
  },
  {
   "cell_type": "code",
   "execution_count": null,
   "id": "37d468ec-1ee4-4ce2-bb9e-48246c02f25d",
   "metadata": {
    "id": "37d468ec-1ee4-4ce2-bb9e-48246c02f25d",
    "outputId": "a90e883a-3fc0-4fc0-b705-25c560db67b3"
   },
   "outputs": [
    {
     "name": "stdout",
     "output_type": "stream",
     "text": [
      "<class 'pandas.core.frame.DataFrame'>\n",
      "RangeIndex: 50 entries, 0 to 49\n",
      "Data columns (total 5 columns):\n",
      " #   Column           Non-Null Count  Dtype  \n",
      "---  ------           --------------  -----  \n",
      " 0   R&D Spend        50 non-null     float64\n",
      " 1   Administration   50 non-null     float64\n",
      " 2   Marketing Spend  50 non-null     float64\n",
      " 3   State            50 non-null     object \n",
      " 4   Profit           50 non-null     float64\n",
      "dtypes: float64(4), object(1)\n",
      "memory usage: 2.1+ KB\n"
     ]
    }
   ],
   "source": [
    "md.info()"
   ]
  },
  {
   "cell_type": "code",
   "execution_count": null,
   "id": "8b5190f0-8599-4fc6-9b14-bfd6f7811cc5",
   "metadata": {
    "id": "8b5190f0-8599-4fc6-9b14-bfd6f7811cc5",
    "outputId": "ddc67c04-816f-45f0-d0c7-38085a2d61e3"
   },
   "outputs": [
    {
     "data": {
      "text/plain": [
       "array(['New York', 'California', 'Florida'], dtype=object)"
      ]
     },
     "execution_count": 6,
     "metadata": {},
     "output_type": "execute_result"
    }
   ],
   "source": [
    "md.State.unique()"
   ]
  },
  {
   "cell_type": "code",
   "execution_count": null,
   "id": "dbbfb205-0d75-4af5-9371-ae1260b94ff5",
   "metadata": {
    "id": "dbbfb205-0d75-4af5-9371-ae1260b94ff5",
    "outputId": "64cf9a3a-46f9-4f9b-d791-db2c9cb2d7cf"
   },
   "outputs": [
    {
     "data": {
      "text/html": [
       "<div>\n",
       "<style scoped>\n",
       "    .dataframe tbody tr th:only-of-type {\n",
       "        vertical-align: middle;\n",
       "    }\n",
       "\n",
       "    .dataframe tbody tr th {\n",
       "        vertical-align: top;\n",
       "    }\n",
       "\n",
       "    .dataframe thead th {\n",
       "        text-align: right;\n",
       "    }\n",
       "</style>\n",
       "<table border=\"1\" class=\"dataframe\">\n",
       "  <thead>\n",
       "    <tr style=\"text-align: right;\">\n",
       "      <th></th>\n",
       "      <th>Florida</th>\n",
       "      <th>New York</th>\n",
       "    </tr>\n",
       "  </thead>\n",
       "  <tbody>\n",
       "    <tr>\n",
       "      <th>0</th>\n",
       "      <td>0</td>\n",
       "      <td>1</td>\n",
       "    </tr>\n",
       "    <tr>\n",
       "      <th>1</th>\n",
       "      <td>0</td>\n",
       "      <td>0</td>\n",
       "    </tr>\n",
       "    <tr>\n",
       "      <th>2</th>\n",
       "      <td>1</td>\n",
       "      <td>0</td>\n",
       "    </tr>\n",
       "    <tr>\n",
       "      <th>3</th>\n",
       "      <td>0</td>\n",
       "      <td>1</td>\n",
       "    </tr>\n",
       "    <tr>\n",
       "      <th>4</th>\n",
       "      <td>1</td>\n",
       "      <td>0</td>\n",
       "    </tr>\n",
       "  </tbody>\n",
       "</table>\n",
       "</div>"
      ],
      "text/plain": [
       "   Florida  New York\n",
       "0        0         1\n",
       "1        0         0\n",
       "2        1         0\n",
       "3        0         1\n",
       "4        1         0"
      ]
     },
     "execution_count": 7,
     "metadata": {},
     "output_type": "execute_result"
    }
   ],
   "source": [
    "dummy = pd.get_dummies(md.State, drop_first = True)\n",
    "dummy.head()"
   ]
  },
  {
   "cell_type": "code",
   "execution_count": null,
   "id": "89b37f5d-0d23-458c-b730-88490a9ffde7",
   "metadata": {
    "id": "89b37f5d-0d23-458c-b730-88490a9ffde7",
    "outputId": "dd1d1416-c444-4126-8a92-f192b98bd0dc"
   },
   "outputs": [
    {
     "data": {
      "text/html": [
       "<div>\n",
       "<style scoped>\n",
       "    .dataframe tbody tr th:only-of-type {\n",
       "        vertical-align: middle;\n",
       "    }\n",
       "\n",
       "    .dataframe tbody tr th {\n",
       "        vertical-align: top;\n",
       "    }\n",
       "\n",
       "    .dataframe thead th {\n",
       "        text-align: right;\n",
       "    }\n",
       "</style>\n",
       "<table border=\"1\" class=\"dataframe\">\n",
       "  <thead>\n",
       "    <tr style=\"text-align: right;\">\n",
       "      <th></th>\n",
       "      <th>R&amp;D Spend</th>\n",
       "      <th>Administration</th>\n",
       "      <th>Marketing Spend</th>\n",
       "      <th>State</th>\n",
       "      <th>Profit</th>\n",
       "      <th>Florida</th>\n",
       "      <th>New York</th>\n",
       "    </tr>\n",
       "  </thead>\n",
       "  <tbody>\n",
       "    <tr>\n",
       "      <th>0</th>\n",
       "      <td>165349.20</td>\n",
       "      <td>136897.80</td>\n",
       "      <td>471784.10</td>\n",
       "      <td>New York</td>\n",
       "      <td>192261.83</td>\n",
       "      <td>0</td>\n",
       "      <td>1</td>\n",
       "    </tr>\n",
       "    <tr>\n",
       "      <th>1</th>\n",
       "      <td>162597.70</td>\n",
       "      <td>151377.59</td>\n",
       "      <td>443898.53</td>\n",
       "      <td>California</td>\n",
       "      <td>191792.06</td>\n",
       "      <td>0</td>\n",
       "      <td>0</td>\n",
       "    </tr>\n",
       "    <tr>\n",
       "      <th>2</th>\n",
       "      <td>153441.51</td>\n",
       "      <td>101145.55</td>\n",
       "      <td>407934.54</td>\n",
       "      <td>Florida</td>\n",
       "      <td>191050.39</td>\n",
       "      <td>1</td>\n",
       "      <td>0</td>\n",
       "    </tr>\n",
       "    <tr>\n",
       "      <th>3</th>\n",
       "      <td>144372.41</td>\n",
       "      <td>118671.85</td>\n",
       "      <td>383199.62</td>\n",
       "      <td>New York</td>\n",
       "      <td>182901.99</td>\n",
       "      <td>0</td>\n",
       "      <td>1</td>\n",
       "    </tr>\n",
       "    <tr>\n",
       "      <th>4</th>\n",
       "      <td>142107.34</td>\n",
       "      <td>91391.77</td>\n",
       "      <td>366168.42</td>\n",
       "      <td>Florida</td>\n",
       "      <td>166187.94</td>\n",
       "      <td>1</td>\n",
       "      <td>0</td>\n",
       "    </tr>\n",
       "  </tbody>\n",
       "</table>\n",
       "</div>"
      ],
      "text/plain": [
       "   R&D Spend  Administration  Marketing Spend       State     Profit  Florida  \\\n",
       "0  165349.20       136897.80        471784.10    New York  192261.83        0   \n",
       "1  162597.70       151377.59        443898.53  California  191792.06        0   \n",
       "2  153441.51       101145.55        407934.54     Florida  191050.39        1   \n",
       "3  144372.41       118671.85        383199.62    New York  182901.99        0   \n",
       "4  142107.34        91391.77        366168.42     Florida  166187.94        1   \n",
       "\n",
       "   New York  \n",
       "0         1  \n",
       "1         0  \n",
       "2         0  \n",
       "3         1  \n",
       "4         0  "
      ]
     },
     "execution_count": 8,
     "metadata": {},
     "output_type": "execute_result"
    }
   ],
   "source": [
    "md = pd.concat([md, dummy], axis = 1)\n",
    "md.head()"
   ]
  },
  {
   "cell_type": "code",
   "execution_count": null,
   "id": "7573c68a",
   "metadata": {},
   "outputs": [],
   "source": [
    "md = md.drop([\"State\"], axis = 1)\n",
    "md.head()"
   ]
  },
  {
   "cell_type": "markdown",
   "id": "d91def8b",
   "metadata": {},
   "source": [
    "<hi>Test Train Split<hi>\n"
   ]
  },
  {
   "cell_type": "code",
   "execution_count": null,
   "id": "fdb81373",
   "metadata": {},
   "outputs": [],
   "source": [
    "from sklearn.model_selection import train_test_split"
   ]
  },
  {
   "cell_type": "code",
   "execution_count": null,
   "id": "2bd3b4e3",
   "metadata": {},
   "outputs": [],
   "source": [
    "# from sklearn.model_selection import train_test_split\n",
    "\n",
    "# We specify this so that the train and test data set always have the same rows, respectively\n",
    "# np.random.seed(0)\n",
    "md_train, md_test = train_test_split(md, train_size = 0.7, test_size = 0.3, \n",
    "                                     random_state = 100)\n",
    "print(md_train.shape)\n",
    "print(md_test.shape)"
   ]
  },
  {
   "cell_type": "markdown",
   "id": "d1e0f21d",
   "metadata": {},
   "source": [
    "<hi>Looking for Correlations<hi>"
   ]
  },
  {
   "cell_type": "code",
   "execution_count": null,
   "id": "ef1f303e",
   "metadata": {},
   "outputs": [],
   "source": [
    "# Importing matplotlib and seaborn\n",
    "import matplotlib.pyplot as plt\n",
    "import seaborn as sns\n",
    "%matplotlib inline"
   ]
  },
  {
   "cell_type": "code",
   "execution_count": null,
   "id": "9fda5844",
   "metadata": {},
   "outputs": [],
   "source": [
    "# Let's see the correlation matrix \n",
    "plt.figure(figsize = (20,10))        # Size of the figure\n",
    "sns.heatmap(md_train.corr(),annot = True)\n",
    "plt.show()"
   ]
  },
  {
   "cell_type": "code",
   "execution_count": null,
   "id": "c65ee46d",
   "metadata": {},
   "outputs": [],
   "source": [
    "md[\"Profit\"].skew()"
   ]
  },
  {
   "cell_type": "code",
   "execution_count": null,
   "id": "bd1395c7",
   "metadata": {},
   "outputs": [],
   "source": [
    "md_train.describe()"
   ]
  },
  {
   "cell_type": "markdown",
   "id": "168574bc",
   "metadata": {},
   "source": [
    "<ui>Feature Scaling<ui>"
   ]
  },
  {
   "cell_type": "code",
   "execution_count": null,
   "id": "fc81fd62",
   "metadata": {},
   "outputs": [],
   "source": [
    "from sklearn.preprocessing import StandardScaler"
   ]
  },
  {
   "cell_type": "code",
   "execution_count": null,
   "id": "33e4cd23",
   "metadata": {},
   "outputs": [],
   "source": [
    "scaler = StandardScaler()\n",
    "\n",
    "md_train[['R&D Spend','Administration','Marketing Spend', 'Profit']] = scaler.fit_transform(md_train[['R&D Spend','Administration','Marketing Spend', 'Profit']])\n",
    "\n",
    "md_train.head()"
   ]
  },
  {
   "cell_type": "markdown",
   "id": "3566a710",
   "metadata": {},
   "source": [
    "<ui>Dividing into X and Y sets for the model building<ui>"
   ]
  },
  {
   "cell_type": "code",
   "execution_count": null,
   "id": "34d7735a",
   "metadata": {},
   "outputs": [],
   "source": [
    "y_train = md_train.pop('Profit')\n",
    "X_train = md_train"
   ]
  },
  {
   "cell_type": "code",
   "execution_count": null,
   "id": "b4dd915a",
   "metadata": {},
   "outputs": [],
   "source": [
    "y_train.head()"
   ]
  },
  {
   "cell_type": "code",
   "execution_count": null,
   "id": "2d6fcdb3",
   "metadata": {},
   "outputs": [],
   "source": [
    "X_train.head()"
   ]
  },
  {
   "cell_type": "markdown",
   "id": "8a5279ad",
   "metadata": {},
   "source": [
    "<ui>Building a linear model<ui>"
   ]
  },
  {
   "cell_type": "markdown",
   "id": "3fe5450a",
   "metadata": {},
   "source": [
    "<ui>Fit a regression line through the training data using statsmodels. Remember that in statsmodels, you need to explicitly fit a constant using sm.add_constant(X) because if we don't perform this step, statsmodels fits a regression line passing through the origin, by default.<ui>"
   ]
  },
  {
   "cell_type": "code",
   "execution_count": null,
   "id": "697abe45",
   "metadata": {},
   "outputs": [],
   "source": [
    "import statsmodels.api as sm"
   ]
  },
  {
   "cell_type": "code",
   "execution_count": null,
   "id": "716efe0c",
   "metadata": {},
   "outputs": [],
   "source": [
    "# Add a constant\n",
    "X_train_lm1 = sm.add_constant(X_train)\n",
    "X_train_lm1.head()"
   ]
  },
  {
   "cell_type": "code",
   "execution_count": null,
   "id": "889f4312",
   "metadata": {},
   "outputs": [],
   "source": [
    "# Create a first fitted model\n",
    "lr_1 = sm.OLS(y_train, X_train_lm1).fit()"
   ]
  },
  {
   "cell_type": "code",
   "execution_count": null,
   "id": "a56d349f",
   "metadata": {},
   "outputs": [],
   "source": [
    "print(lr_1.summary())"
   ]
  },
  {
   "cell_type": "markdown",
   "id": "9f5b9d04",
   "metadata": {},
   "source": [
    "<ui>Checking VIF<ui>"
   ]
  },
  {
   "cell_type": "code",
   "execution_count": null,
   "id": "ecd4db11",
   "metadata": {},
   "outputs": [],
   "source": [
    "# Check for the VIF values of the feature variables. \n",
    "from statsmodels.stats.outliers_influence import variance_inflation_factor"
   ]
  },
  {
   "cell_type": "code",
   "execution_count": null,
   "id": "3f372a2f",
   "metadata": {},
   "outputs": [],
   "source": [
    "# Create a dataframe that will contain the names of all the feature variables and their respective VIFs\n",
    "vif = pd.DataFrame()\n",
    "vif['Features'] = X_train.columns\n",
    "vif['VIF'] = [variance_inflation_factor(X_train.values, i) for i in range(X_train.shape[1])]\n",
    "vif['VIF'] = round(vif['VIF'], 2)\n",
    "vif = vif.sort_values(by = \"VIF\", ascending = False)\n",
    "vif"
   ]
  },
  {
   "cell_type": "markdown",
   "id": "7df330a1",
   "metadata": {},
   "source": [
    "<ui>Dropping the variable and updating the model<ui>"
   ]
  },
  {
   "cell_type": "code",
   "execution_count": null,
   "id": "432fef22",
   "metadata": {},
   "outputs": [],
   "source": [
    "# Dropping highly correlated variables and insignificant variables\n",
    "X1 = X_train.drop('Administration', axis = 1)"
   ]
  },
  {
   "cell_type": "code",
   "execution_count": null,
   "id": "5088316f",
   "metadata": {},
   "outputs": [],
   "source": [
    "X1.head()"
   ]
  },
  {
   "cell_type": "code",
   "execution_count": null,
   "id": "8a2a368e",
   "metadata": {},
   "outputs": [],
   "source": [
    "# Build a second model\n",
    "\n",
    "X_train_lm2= sm.add_constant(X1)\n",
    "\n",
    "# X_train_lm2.head()\n",
    "lr_2 = sm.OLS(y_train, X_train_lm2).fit()"
   ]
  },
  {
   "cell_type": "code",
   "execution_count": null,
   "id": "732b0c49",
   "metadata": {},
   "outputs": [],
   "source": [
    "# Print the summary of the model\n",
    "print(lr_2.summary())\n",
    "\n"
   ]
  },
  {
   "cell_type": "code",
   "execution_count": null,
   "id": "47cd1d36",
   "metadata": {},
   "outputs": [],
   "source": [
    "# Dropping highly correlated variables and insignificant variables\n",
    "X2 = X1.drop('Florida', axis = 1)\n",
    "X2.head()"
   ]
  },
  {
   "cell_type": "code",
   "execution_count": null,
   "id": "18245470",
   "metadata": {},
   "outputs": [],
   "source": [
    "# Build a second model\n",
    "\n",
    "X_train_lm3= sm.add_constant(X2)\n",
    "\n",
    "lr_3 = sm.OLS(y_train, X_train_lm3).fit()"
   ]
  },
  {
   "cell_type": "code",
   "execution_count": null,
   "id": "f1b4bcaf",
   "metadata": {},
   "outputs": [],
   "source": [
    "# Print the summary of the model\n",
    "print(lr_3.summary())"
   ]
  },
  {
   "cell_type": "code",
   "execution_count": null,
   "id": "c13b43ac",
   "metadata": {},
   "outputs": [],
   "source": [
    "# Dropping highly correlated variables and insignificant variables\n",
    "X3 = X2.drop('New York', axis = 1)\n",
    "X3.head()"
   ]
  },
  {
   "cell_type": "markdown",
   "id": "bda49a7b",
   "metadata": {},
   "source": [
    "<ui># Build a second model<ui>"
   ]
  },
  {
   "cell_type": "code",
   "execution_count": null,
   "id": "69eb61ea",
   "metadata": {},
   "outputs": [],
   "source": [
    "\n",
    "X_train_lm4= sm.add_constant(X3)\n",
    "\n",
    "lr_4 = sm.OLS(y_train, X_train_lm4).fit()"
   ]
  },
  {
   "cell_type": "code",
   "execution_count": null,
   "id": "e63dada8",
   "metadata": {},
   "outputs": [],
   "source": [
    "# Print the summary of the model\n",
    "print(lr_4.summary())"
   ]
  },
  {
   "cell_type": "code",
   "execution_count": null,
   "id": "ad10ecde",
   "metadata": {},
   "outputs": [],
   "source": [
    "# Dropping highly correlated variables and insignificant variables\n",
    "X4 = X3.drop('Marketing Spend', axis = 1)\n",
    "X4.head()"
   ]
  },
  {
   "cell_type": "code",
   "execution_count": null,
   "id": "9abd999e",
   "metadata": {},
   "outputs": [],
   "source": [
    "# Build a second model\n",
    "\n",
    "X_train_lm5= sm.add_constant(X4)\n",
    "\n",
    "lr_5 = sm.OLS(y_train, X_train_lm5).fit() "
   ]
  },
  {
   "cell_type": "code",
   "execution_count": null,
   "id": "6d799585",
   "metadata": {},
   "outputs": [],
   "source": [
    "# Print the summary of the model\n",
    "print(lr_5.summary())"
   ]
  },
  {
   "cell_type": "code",
   "execution_count": null,
   "id": "08205d4a",
   "metadata": {},
   "outputs": [],
   "source": [
    "pred_train =  lr_3.predict(X_train_lm3)"
   ]
  },
  {
   "cell_type": "code",
   "execution_count": null,
   "id": "81f37e70",
   "metadata": {},
   "outputs": [],
   "source": [
    "# Plot the histogram of the error terms\n",
    "fig = plt.figure()\n",
    "sns.distplot((y_train - pred_train), bins = 10)\n",
    "fig.suptitle('Error Terms', fontsize = 20)                  # Plot heading \n",
    "plt.xlabel('Errors', fontsize = 18)                         # X-label\n",
    "# plt.savefig(\"Error\")"
   ]
  },
  {
   "cell_type": "code",
   "execution_count": null,
   "id": "1a99c6fb",
   "metadata": {},
   "outputs": [],
   "source": [
    "# create dataframe from X, y for easier plot handling\n",
    "dataframe = pd.concat([X2, y_train], axis=1)\n",
    "# model values\n",
    "model_fitted_y = lr_3.fittedvalues\n",
    "# model residuals\n",
    "model_residuals = lr_3.resid\n",
    "# normalized residuals\n",
    "model_norm_residuals = lr_3.get_influence().resid_studentized_internal\n",
    "# absolute squared normalized residuals\n",
    "model_norm_residuals_abs_sqrt = np.sqrt(np.abs(model_norm_residuals))\n",
    "# absolute residuals\n",
    "model_abs_resid = np.abs(model_residuals)\n",
    "# leverage, from statsmodels internals\n",
    "model_leverage = lr_3.get_influence().hat_matrix_diag\n",
    "# cook's distance, from statsmodels internals\n",
    "model_cooks = lr_3.get_influence().cooks_distance[0]"
   ]
  },
  {
   "cell_type": "code",
   "execution_count": null,
   "id": "c59006c4",
   "metadata": {},
   "outputs": [],
   "source": [
    "from statsmodels.graphics.gofplots import ProbPlot\n",
    "QQ = ProbPlot(model_norm_residuals)\n",
    "plot_lm_2 = QQ.qqplot(line='45', alpha=0.5, color='#4C72B0', lw=1)\n",
    "plot_lm_2.axes[0].set_title('Normal Q-Q')\n",
    "plot_lm_2.axes[0].set_xlabel('Theoretical Quantiles')\n",
    "plot_lm_2.axes[0].set_ylabel('Standardized Residuals');\n",
    "# annotations\n",
    "abs_norm_resid = np.flip(np.argsort(np.abs(model_norm_residuals)), 0)\n",
    "abs_norm_resid_top_3 = abs_norm_resid[:3]\n",
    "for r, i in enumerate(abs_norm_resid_top_3):\n",
    "    plot_lm_2.axes[0].annotate(i,\n",
    "                               xy=(np.flip(QQ.theoretical_quantiles, 0)[r],\n",
    "                                   model_norm_residuals[i]));"
   ]
  },
  {
   "cell_type": "code",
   "execution_count": null,
   "id": "187c5088",
   "metadata": {},
   "outputs": [],
   "source": [
    "plt.scatter(md_train.index, (y_train - pred_train))\n",
    "plt.suptitle('Pattern of Error Terms', fontsize = 20)  \n",
    "plt.xlabel('Observations', fontsize = 18) \n",
    "plt.ylabel(\"Residuals\", fontsize = 18)\n",
    "plt.axhline(y=0.0, color='r', linestyle='-')\n",
    "# plt.savefig(\"Pattern of Error Term\")"
   ]
  },
  {
   "cell_type": "code",
   "execution_count": null,
   "id": "1e6bc29b",
   "metadata": {},
   "outputs": [],
   "source": [
    "dataframe.head()"
   ]
  },
  {
   "cell_type": "code",
   "execution_count": null,
   "id": "6810f80a",
   "metadata": {},
   "outputs": [],
   "source": [
    "plot_lm_1 = plt.figure()\n",
    "plot_lm_1.axes[0] = sns.residplot(model_fitted_y, dataframe.columns[-1], data=dataframe,\n",
    "                          lowess=True,\n",
    "                          scatter_kws={'alpha': 0.5},\n",
    "                          line_kws={'color': 'red', 'lw': 1, 'alpha': 0.8})\n",
    "\n",
    "plot_lm_1.axes[0].set_title('Residuals vs Fitted')\n",
    "plot_lm_1.axes[0].set_xlabel('Fitted values')\n",
    "plot_lm_1.axes[0].set_ylabel('Residuals');"
   ]
  },
  {
   "cell_type": "code",
   "execution_count": null,
   "id": "e1fae0a4",
   "metadata": {},
   "outputs": [],
   "source": [
    "# create dataframe from X, y for easier plot handling\n",
    "dataframe1 = pd.concat([X3, y_train], axis=1)\n",
    "# model values\n",
    "model_fitted_y = lr_4.fittedvalues\n",
    "# model residuals\n",
    "model_residuals = lr_4.resid\n",
    "# normalized residuals\n",
    "model_norm_residuals = lr_4.get_influence().resid_studentized_internal\n",
    "# absolute squared normalized residuals\n",
    "model_norm_residuals_abs_sqrt = np.sqrt(np.abs(model_norm_residuals))\n",
    "# absolute residuals\n",
    "model_abs_resid = np.abs(model_residuals)\n",
    "# leverage, from statsmodels internals\n",
    "model_leverage = lr_4.get_influence().hat_matrix_diag\n",
    "# cook's distance, from statsmodels internals\n",
    "model_cooks = lr_4.get_influence().cooks_distance[0]"
   ]
  },
  {
   "cell_type": "code",
   "execution_count": null,
   "id": "08828693",
   "metadata": {},
   "outputs": [],
   "source": [
    "pred_train2 = lr_4.predict(X_train_lm4)"
   ]
  },
  {
   "cell_type": "code",
   "execution_count": null,
   "id": "5969030d",
   "metadata": {},
   "outputs": [],
   "source": [
    "# Plot the histogram of the error terms\n",
    "fig = plt.figure()\n",
    "sns.distplot((y_train - pred_train2), bins = 10)\n",
    "fig.suptitle('Error Terms', fontsize = 20)                  # Plot heading \n",
    "plt.xlabel('Errors', fontsize = 18)                         # X-label\n",
    "# plt.savefig(\"Error\")"
   ]
  },
  {
   "cell_type": "code",
   "execution_count": null,
   "id": "dd8eff7d",
   "metadata": {},
   "outputs": [],
   "source": [
    "from statsmodels.graphics.gofplots import ProbPlot\n",
    "QQ = ProbPlot(model_norm_residuals)\n",
    "plot_lm_3 = QQ.qqplot(line='45', alpha=0.5, color='#4C72B0', lw=1)\n",
    "plot_lm_3.axes[0].set_title('Normal Q-Q')\n",
    "plot_lm_3.axes[0].set_xlabel('Theoretical Quantiles')\n",
    "plot_lm_3.axes[0].set_ylabel('Standardized Residuals');\n",
    "# annotations\n",
    "abs_norm_resid = np.flip(np.argsort(np.abs(model_norm_residuals)), 0)\n",
    "abs_norm_resid_top_3 = abs_norm_resid[:3]\n",
    "for r, i in enumerate(abs_norm_resid_top_3):\n",
    "    plot_lm_2.axes[0].annotate(i,\n",
    "                               xy=(np.flip(QQ.theoretical_quantiles, 0)[r],\n",
    "                                   model_norm_residuals[i]));"
   ]
  },
  {
   "cell_type": "code",
   "execution_count": null,
   "id": "2fc26a7f",
   "metadata": {},
   "outputs": [],
   "source": [
    "plt.scatter(md_train.index, (y_train - pred_train2))\n",
    "plt.suptitle('Pattern of Error Terms', fontsize = 20)  \n",
    "plt.xlabel('Observations', fontsize = 18) \n",
    "plt.ylabel(\"Residuals\", fontsize = 18)\n",
    "plt.axhline(y=0.0, color='r', linestyle='-')\n",
    "# plt.savefig(\"Pattern of Error Term\")"
   ]
  },
  {
   "cell_type": "code",
   "execution_count": null,
   "id": "25377364",
   "metadata": {},
   "outputs": [],
   "source": [
    "plot_lm_1 = plt.figure()\n",
    "plot_lm_1.axes[0] = sns.residplot(model_fitted_y, dataframe1.columns[-1], data=dataframe1,\n",
    "                          lowess=True,\n",
    "                          scatter_kws={'alpha': 0.5},\n",
    "                          line_kws={'color': 'red', 'lw': 1, 'alpha': 0.8})\n",
    "\n",
    "plot_lm_1.axes[0].set_title('Residuals vs Fitted')\n",
    "plot_lm_1.axes[0].set_xlabel('Fitted values')\n",
    "plot_lm_1.axes[0].set_ylabel('Residuals');"
   ]
  },
  {
   "cell_type": "code",
   "execution_count": null,
   "id": "bf12acdc",
   "metadata": {},
   "outputs": [],
   "source": [
    "mar_sp_sq_neg = -(md_train[\"Marketing Spend\"]**2)\n",
    "mar_sp_sq_neg.head()"
   ]
  },
  {
   "cell_type": "code",
   "execution_count": null,
   "id": "769a8826",
   "metadata": {},
   "outputs": [],
   "source": [
    "X2_sq = X2.drop('Marketing Spend', axis = 1)\n",
    "X2_sq.head()"
   ]
  },
  {
   "cell_type": "code",
   "execution_count": null,
   "id": "d39a667e",
   "metadata": {},
   "outputs": [],
   "source": [
    "X2_sq = pd.concat([X2_sq, mar_sp_sq_neg], axis = 1)"
   ]
  },
  {
   "cell_type": "code",
   "execution_count": null,
   "id": "7eb37834",
   "metadata": {},
   "outputs": [],
   "source": [
    "X2_sq.head()"
   ]
  }
 ],
 "metadata": {
  "colab": {
   "provenance": []
  },
  "kernelspec": {
   "display_name": "Python 3 (ipykernel)",
   "language": "python",
   "name": "python3"
  },
  "language_info": {
   "codemirror_mode": {
    "name": "ipython",
    "version": 3
   },
   "file_extension": ".py",
   "mimetype": "text/x-python",
   "name": "python",
   "nbconvert_exporter": "python",
   "pygments_lexer": "ipython3",
   "version": "3.9.12"
  }
 },
 "nbformat": 4,
 "nbformat_minor": 5
}
